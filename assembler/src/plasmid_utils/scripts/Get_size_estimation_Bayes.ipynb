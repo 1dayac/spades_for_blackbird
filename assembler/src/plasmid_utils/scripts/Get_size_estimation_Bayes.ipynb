{
 "cells": [
  {
   "cell_type": "code",
   "execution_count": 242,
   "metadata": {},
   "outputs": [
    {
     "name": "stdout",
     "output_type": "stream",
     "text": [
      "/Nancy/mrayko/viruses/size_estimation_NB\r\n"
     ]
    }
   ],
   "source": [
    "!pwd\n",
    "#!ls"
   ]
  },
  {
   "cell_type": "markdown",
   "metadata": {},
   "source": [
    "Get refseq fasta, split to train and test"
   ]
  },
  {
   "cell_type": "code",
   "execution_count": 168,
   "metadata": {},
   "outputs": [],
   "source": [
    "refseq_viruses = \"/Nancy/mrayko/db/refseq_viruses/total.gbff\" #viral.1.genomic.gbff\"  \n",
    "from Bio import SeqIO\n",
    "genomes={} # RefSeq genome: [RefSeq proteins]\n",
    "genomes_len={} # RefSeq genome: [Genome length, genome description]\n",
    "proteins_to_genomes={} # RefSeq protein: [RefSeq genome]\n",
    "\n",
    "for record in SeqIO.parse(open(refseq_viruses),\"genbank\"):\n",
    "  if len(record) >= 5000: # We keep only viruses > 5 kb\n",
    "    genomes_len[record.id] = [len(record), record.description]\n",
    "    genomes[record.id] = []\n",
    "    #print(record.id)\n",
    "   #print(record.name)\n",
    "    #print(record.description)\n",
    "    for feature in record.features:\n",
    "        if feature.type == \"CDS\":\n",
    "          #print (feature.qualifiers.keys())\n",
    "          if \"protein_id\" in feature.qualifiers:\n",
    "            genomes[record.id].append(feature.qualifiers[\"protein_id\"][0])\n",
    "            proteins_to_genomes[feature.qualifiers[\"protein_id\"][0]] = record.id\n",
    "   #print(record.features[13].type)\n",
    "   #print(record.features[13].qualifiers)\n",
    "   #print(record.features[13].qualifiers[\"protein_id\"])\n",
    "\n",
    "   #genomes_len[record.id] = [len(record), record.description.split(\",\")[0].split(' ', 1)[1]]\n",
    "#for i in genomes:\n",
    " #   print (i)\n",
    "  #  print (len(genomes[i]))\n",
    "#print(genomes)\n",
    "\n",
    "\n",
    "\n"
   ]
  },
  {
   "cell_type": "code",
   "execution_count": 293,
   "metadata": {},
   "outputs": [
    {
     "name": "stdout",
     "output_type": "stream",
     "text": [
      "10544\n"
     ]
    }
   ],
   "source": [
    "import pickle\n",
    "#with open('viral_genomes_over5kb.pkl', 'wb') as f:\n",
    " #   pickle.dump(genomes, f)\n",
    "\n",
    "#with open('viral_genomes_len_over5kb.pkl', 'wb') as f:\n",
    " #   pickle.dump(genomes_len, f)\n",
    "\n",
    "#with open('proteins_to_genomes_over5kb.pkl', 'wb') as f:\n",
    " #   pickle.dump(proteins_to_genomes, f)\n",
    "    \n",
    "\n",
    "with open('viral_genomes_over5kb.pkl', 'rb') as f:\n",
    "    genomes = pickle.load(f)\n",
    "\n",
    "with open('viral_genomes_len_over5kb.pkl', 'rb') as f:\n",
    "    genomes_len = pickle.load(f)\n",
    "\n",
    "with open('proteins_to_genomes_over5kb.pkl', 'rb') as f:\n",
    "    pickle.load(f)\n",
    "    \n",
    "    #print (data_new[\"Streptococcus thermophilus DSM\"][-1])\n",
    "\n",
    "print (len(genomes))\n"
   ]
  },
  {
   "cell_type": "code",
   "execution_count": null,
   "metadata": {},
   "outputs": [],
   "source": [
    "# Split to test (30%) and train(70%):"
   ]
  },
  {
   "cell_type": "code",
   "execution_count": 294,
   "metadata": {},
   "outputs": [],
   "source": [
    "import random\n",
    "random.seed(a=25)\n",
    "keys = list(genomes.keys())\n",
    "s = set(random.sample(keys, round(len(genomes)*0.3)))"
   ]
  },
  {
   "cell_type": "code",
   "execution_count": 295,
   "metadata": {},
   "outputs": [],
   "source": [
    "train={}\n",
    "test={}\n",
    "for i in genomes:\n",
    "    if i in s:\n",
    "        test[i] = genomes[i]\n",
    "    else:\n",
    "        train[i] = genomes[i]"
   ]
  },
  {
   "cell_type": "code",
   "execution_count": 243,
   "metadata": {},
   "outputs": [
    {
     "name": "stdout",
     "output_type": "stream",
     "text": [
      "4091\n",
      "1754\n"
     ]
    }
   ],
   "source": [
    "print(len(train))\n",
    "print(len(test))"
   ]
  },
  {
   "cell_type": "code",
   "execution_count": 215,
   "metadata": {},
   "outputs": [],
   "source": [
    "proteins= []\n",
    "for i in train:\n",
    "    #if len(train[i]) == 1:\n",
    "      #print (len(train[i]))\n",
    "      #print (i)\n",
    "    proteins+=train[i]"
   ]
  },
  {
   "cell_type": "code",
   "execution_count": null,
   "metadata": {},
   "outputs": [],
   "source": []
  },
  {
   "cell_type": "code",
   "execution_count": 219,
   "metadata": {},
   "outputs": [],
   "source": [
    "# Get list of proteins for train dataset\n",
    "with open('train_proteins_over5kb.txt', 'w') as f:\n",
    "    for item in proteins:\n",
    "        f.write(\"%s\\n\" % item)"
   ]
  },
  {
   "cell_type": "code",
   "execution_count": 228,
   "metadata": {},
   "outputs": [
    {
     "name": "stdout",
     "output_type": "stream",
     "text": [
      "215579\r\n"
     ]
    }
   ],
   "source": [
    "# Get fasta for train proteins\n",
    "\n",
    "#!python /Nancy/mrayko/tmp_py_scripts/get_fasta_from_names.py --l train_proteins_over5kb.txt --f /Nancy/mrayko/db/refseq_viruses/total.protein.fa > train_proteins_over5kb.fa\n",
    "! samtools faidx  /Nancy/mrayko/db/refseq_viruses/total.protein.fa \n",
    "! xargs samtools faidx  /Nancy/mrayko/db/refseq_viruses/total.protein.fa  < train_proteins_over5kb.txt > train_proteins_over5kb.fa\n",
    "\n",
    "!grep \">\" train_proteins_over5kb.fa  | wc -l"
   ]
  },
  {
   "cell_type": "code",
   "execution_count": 229,
   "metadata": {},
   "outputs": [
    {
     "name": "stdout",
     "output_type": "stream",
     "text": [
      "215579\n"
     ]
    }
   ],
   "source": [
    "counter=0\n",
    "for i in train:\n",
    "    counter+=len(train[i])\n",
    "print (counter)"
   ]
  },
  {
   "cell_type": "code",
   "execution_count": 232,
   "metadata": {},
   "outputs": [
    {
     "name": "stdout",
     "output_type": "stream",
     "text": [
      "\n",
      "\n",
      "Building a new DB, current time: 03/26/2019 12:12:19\n",
      "New DB name:   /Nancy/mrayko/viruses/size_estimation_NB/train_proteins_over5kb\n",
      "New DB title:  train_proteins_over5kb.fa\n",
      "Sequence type: Protein\n",
      "Deleted existing Protein BLAST database named /Nancy/mrayko/viruses/size_estimation_NB/train_proteins_over5kb\n",
      "Keep MBits: T\n",
      "Maximum file size: 1000000000B\n",
      "Adding sequences from FASTA; added 215579 sequences in 17.189 seconds.\n"
     ]
    }
   ],
   "source": [
    "!makeblastdb -in train_proteins_over5kb.fa -dbtype prot -out train_proteins_over5kb"
   ]
  },
  {
   "cell_type": "code",
   "execution_count": 251,
   "metadata": {},
   "outputs": [
    {
     "name": "stdout",
     "output_type": "stream",
     "text": [
      "1754\n",
      "877\n",
      "Positive:  877\n",
      "Negative:  877\n"
     ]
    }
   ],
   "source": [
    "# Делим тестовый датасет на полные и неполные.\n",
    "print(len(test))\n",
    "test_keys = list(test.keys())\n",
    "s = set(random.sample(test_keys, round(len(test)*0.5)))\n",
    "print(len(s))\n",
    "\n",
    "test_pos={}\n",
    "test_neg={}\n",
    "for i in test:\n",
    "    if i in s:\n",
    "        test_pos[i] = test[i]\n",
    "    else:\n",
    "        test_neg[i] = test[i]\n",
    "\n",
    "print (\"Positive: \",len(test_pos))\n",
    "print (\"Negative: \",len(test_neg))"
   ]
  },
  {
   "cell_type": "code",
   "execution_count": 253,
   "metadata": {},
   "outputs": [],
   "source": [
    "# Получаем фасту для полных и неполных:\n",
    "with open('test_positive.txt', 'w') as f:\n",
    "    for item in test_pos:\n",
    "        f.write(\"%s\\n\" % item)\n",
    "\n",
    "with open('test_negative.txt', 'w') as f:\n",
    "    for item in test_neg:\n",
    "        f.write(\"%s\\n\" % item)"
   ]
  },
  {
   "cell_type": "code",
   "execution_count": 269,
   "metadata": {},
   "outputs": [],
   "source": [
    "! samtools faidx  /Nancy/mrayko/db/refseq_viruses/total.genomic.fa\n",
    "! xargs samtools faidx  /Nancy/mrayko/db/refseq_viruses/total.genomic.fa  < test_positive.txt > test_positive.fa\n",
    "! xargs samtools faidx  /Nancy/mrayko/db/refseq_viruses/total.genomic.fa  < test_negative.txt > test_negative.fa "
   ]
  },
  {
   "cell_type": "code",
   "execution_count": 274,
   "metadata": {},
   "outputs": [],
   "source": [
    "#Обрезаем неполные пополам:\n",
    "from Bio.Seq import Seq\n",
    "from Bio.SeqRecord import SeqRecord\n",
    "handle = open(\"test_negative.fa\", 'r')\n",
    "records = list(SeqIO.parse(handle, \"fasta\"))\n",
    "\n",
    "\n",
    "with open(\"test_negative_cut.fa\", 'w') as outfile:\n",
    "  for record in records:\n",
    "    cut_seq = str(record.seq)[:len(record)//2]\n",
    "    cut_record = SeqRecord(Seq(cut_seq, record.seq.alphabet),\n",
    "            id=record.id, name=record.name,\n",
    "            description=record.description)\n",
    "    SeqIO.write(cut_record, outfile, \"fasta\")\n"
   ]
  },
  {
   "cell_type": "code",
   "execution_count": 275,
   "metadata": {},
   "outputs": [],
   "source": [
    "# Предсказываем гены.\n",
    "!prodigal -p meta -a test_positive_proteins.fa -o test_positive_prodigal.out -q -i test_positive.fa\n",
    "!prodigal -p meta -a test_negative_cut_proteins.fa -o test_negative_cut_prodigal.out -q -i test_negative_cut.fa"
   ]
  },
  {
   "cell_type": "code",
   "execution_count": null,
   "metadata": {},
   "outputs": [],
   "source": [
    "#Бластим.\n",
    "!blastp -db train_proteins_over5kb -query test_positive_proteins.fa -out test_positive_blast_out.txt  -outfmt 5  -evalue 0.000001 -max_target_seqs 5 -num_threads 20\n",
    "!blastp -db train_proteins_over5kb -query test_negative_cut_proteins.fa -out test_negative_cut_blast_out.txt  -outfmt 5  -evalue 0.000001 -max_target_seqs 5 -num_threads 20"
   ]
  },
  {
   "cell_type": "code",
   "execution_count": null,
   "metadata": {},
   "outputs": [],
   "source": [
    "\n"
   ]
  },
  {
   "cell_type": "code",
   "execution_count": null,
   "metadata": {},
   "outputs": [],
   "source": []
  },
  {
   "cell_type": "code",
   "execution_count": null,
   "metadata": {},
   "outputs": [],
   "source": []
  },
  {
   "cell_type": "code",
   "execution_count": 276,
   "metadata": {},
   "outputs": [
    {
     "name": "stdout",
     "output_type": "stream",
     "text": [
      "0.0.txt                          test_positive.fa\r\n",
      "1.fa                             test_positive.txt\r\n",
      "1_prodigal.out                   test_positive_prodigal.out\r\n",
      "1_proteins.fa                    test_positive_proteins.fa\r\n",
      "2.fa                             test_proteins.fa\r\n",
      "3.fa                             test_result.txt\r\n",
      "3_cut.fa                         test_viruses.fa\r\n",
      "3_test.fa                        test_viruses.txt\r\n",
      "3_test_prodigal.out              test_viruses_prodigal.out\r\n",
      "3_test_proteins.fa               train_proteins.fa\r\n",
      "5_blast_out.txt                  train_proteins.phr\r\n",
      "5_test.fa                        train_proteins.pin\r\n",
      "5_test_prodigal.out              train_proteins.psq\r\n",
      "5_test_proteins.fa               train_proteins.txt\r\n",
      "Get_size_estimation_Bayes.ipynb  train_proteins_over5kb.fa\r\n",
      "blast_out.txt                    train_proteins_over5kb.phr\r\n",
      "proteins_to_genomes.pkl          train_proteins_over5kb.pin\r\n",
      "proteins_to_genomes_over5kb.pkl  train_proteins_over5kb.psq\r\n",
      "queries.pkl                      train_proteins_over5kb.txt\r\n",
      "test_blast_out.txt               train_viruses.fa\r\n",
      "test_list.txt                    train_viruses.txt\r\n",
      "test_negative.fa                 viral_genomes.pkl\r\n",
      "test_negative.txt                viral_genomes_len.pkl\r\n",
      "test_negative_cut.fa             viral_genomes_len_over5kb.pkl\r\n",
      "test_negative_cut_prodigal.out   viral_genomes_over5kb.pkl\r\n",
      "test_negative_cut_proteins.fa\r\n"
     ]
    }
   ],
   "source": [
    "ls"
   ]
  },
  {
   "cell_type": "code",
   "execution_count": 140,
   "metadata": {},
   "outputs": [],
   "source": [
    "!blastp -db train_proteins -query 5_test_proteins.fa -out 5_blast_out.txt  -outfmt 5  -evalue 0.000001 -max_target_seqs 5 -num_threads 10"
   ]
  },
  {
   "cell_type": "code",
   "execution_count": null,
   "metadata": {},
   "outputs": [],
   "source": [
    "\n",
    "\n",
    "# Test:\n",
    "\n"
   ]
  },
  {
   "cell_type": "code",
   "execution_count": 231,
   "metadata": {},
   "outputs": [],
   "source": [
    "#1. Get apriory distribution of length from input (refseq_train)\n",
    "#Build a priori (uniform) probability distribution from the RefSeq viral database (refseq_train)\n",
    "apriori = {}\n",
    "for i in train:\n",
    "    apriori[i] = [1/len(train)]\n"
   ]
  },
  {
   "cell_type": "code",
   "execution_count": 111,
   "metadata": {},
   "outputs": [],
   "source": [
    "#print(apriori[:10])"
   ]
  },
  {
   "cell_type": "code",
   "execution_count": 58,
   "metadata": {},
   "outputs": [],
   "source": [
    "#2. From genes -> lengths + small E for other viruses from refseq_test (pseudocounts)\n",
    "#Predict genes and proteins in the viral contig using Prodigal (Hyatt et al, 2010).\n",
    "#Blast predicted proteins on the proteins from RefSeq viruses (e-value=..., query coverage = …, # of top hits = ...)\n",
    "#For each gene blast hits get the set of the corresponding viruses "
   ]
  },
  {
   "cell_type": "code",
   "execution_count": 329,
   "metadata": {},
   "outputs": [
    {
     "name": "stdout",
     "output_type": "stream",
     "text": [
      "{'NC_001798.2': {'NC_001798.2_1': ['NC_023677.1', 'NC_023677.1'], 'NC_001798.2_3': ['NC_023677.1', 'NC_023677.1', 'NC_001806.2', 'NC_001806.2', 'NC_029311.1'], 'NC_001798.2_6': ['NC_023677.1', 'NC_023677.1', 'NC_001806.2', 'NC_001806.2', 'NC_006560.1'], 'NC_001798.2_8': ['NC_023677.1', 'NC_001806.2', 'NC_006560.1', 'NC_014567.1', 'NC_024306.1'], 'NC_001798.2_9': ['NC_023677.1', 'NC_001806.2', 'NC_029311.1', 'NC_006560.1', 'NC_024306.1'], 'NC_001798.2_10': ['NC_023677.1', 'NC_001806.2', 'NC_006560.1', 'NC_024306.1', 'NC_029311.1'], 'NC_001798.2_11': ['NC_023677.1', 'NC_001806.2', 'NC_024306.1', 'NC_006560.1', 'NC_029132.1'], 'NC_001798.2_12': ['NC_023677.1', 'NC_001806.2', 'NC_024306.1', 'NC_006560.1', 'NC_029132.1'], 'NC_001798.2_13': ['NC_023677.1', 'NC_001806.2', 'NC_006560.1', 'NC_024306.1', 'NC_029132.1'], 'NC_001798.2_14': ['NC_023677.1', 'NC_001806.2', 'NC_006560.1', 'NC_024306.1', 'NC_029132.1'], 'NC_001798.2_15': ['NC_023677.1', 'NC_001806.2', 'NC_024306.1', 'NC_006560.1', 'NC_029132.1'], 'NC_001798.2_16': ['NC_023677.1', 'NC_001806.2', 'NC_024306.1', 'NC_006560.1', 'NC_029132.1'], 'NC_001798.2_17': ['NC_023677.1', 'NC_001806.2', 'NC_006560.1', 'NC_024306.1', 'NC_029132.1'], 'NC_001798.2_18': ['NC_023677.1', 'NC_001806.2', 'NC_024306.1', 'NC_006560.1', 'NC_029311.1'], 'NC_001798.2_19': ['NC_023677.1', 'NC_001806.2', 'NC_006560.1', 'NC_029311.1', 'NC_029132.1'], 'NC_001798.2_20': ['NC_023677.1', 'NC_001806.2', 'NC_006560.1', 'NC_024306.1', 'NC_029132.1'], 'NC_001798.2_21': ['NC_023677.1', 'NC_001806.2', 'NC_006560.1', 'NC_024306.1', 'NC_029132.1'], 'NC_001798.2_22': ['NC_023677.1', 'NC_001806.2', 'NC_006560.1', 'NC_024306.1', 'NC_014567.1'], 'NC_001798.2_23': ['NC_023677.1', 'NC_001806.2', 'NC_006560.1', 'NC_024306.1', 'NC_029311.1'], 'NC_001798.2_24': ['NC_023677.1', 'NC_001806.2', 'NC_006560.1', 'NC_024306.1', 'NC_014567.1'], 'NC_001798.2_25': ['NC_023677.1', 'NC_001806.2', 'NC_006560.1', 'NC_024306.1', 'NC_014567.1'], 'NC_001798.2_26': ['NC_023677.1', 'NC_001806.2', 'NC_006560.1', 'NC_024306.1', 'NC_029311.1'], 'NC_001798.2_27': ['NC_023677.1', 'NC_001806.2', 'NC_024306.1', 'NC_006560.1', 'NC_014567.1'], 'NC_001798.2_28': ['NC_023677.1', 'NC_001806.2', 'NC_006560.1', 'NC_024306.1', 'NC_029132.1'], 'NC_001798.2_29': ['NC_023677.1', 'NC_001806.2', 'NC_006560.1', 'NC_024306.1', 'NC_029132.1'], 'NC_001798.2_30': ['NC_023677.1', 'NC_001806.2', 'NC_024306.1', 'NC_006560.1', 'NC_029311.1'], 'NC_001798.2_31': ['NC_023677.1', 'NC_001806.2', 'NC_024306.1', 'NC_006560.1', 'NC_029311.1'], 'NC_001798.2_32': ['NC_023677.1', 'NC_001806.2', 'NC_006560.1', 'NC_024306.1', 'NC_029132.1'], 'NC_001798.2_33': ['NC_023677.1', 'NC_001806.2', 'NC_006560.1', 'NC_029311.1', 'NC_029132.1'], 'NC_001798.2_34': ['NC_023677.1', 'NC_001806.2', 'NC_006560.1', 'NC_024306.1', 'NC_029132.1'], 'NC_001798.2_35': ['NC_023677.1', 'NC_001806.2', 'NC_024306.1', 'NC_006560.1', 'NC_029311.1'], 'NC_001798.2_36': ['NC_023677.1', 'NC_001806.2', 'NC_006560.1', 'NC_024306.1', 'NC_029132.1'], 'NC_001798.2_37': ['NC_023677.1', 'NC_001806.2', 'NC_024306.1', 'NC_006560.1', 'NC_014567.1'], 'NC_001798.2_38': ['NC_023677.1', 'NC_001806.2', 'NC_024306.1', 'NC_006560.1', 'NC_029132.1'], 'NC_001798.2_39': ['NC_023677.1', 'NC_001806.2', 'NC_006560.1', 'NC_024306.1', 'NC_029132.1'], 'NC_001798.2_40': ['NC_023677.1', 'NC_001806.2', 'NC_006560.1', 'NC_024306.1', 'NC_014567.1'], 'NC_001798.2_41': ['NC_023677.1', 'NC_001806.2', 'NC_024306.1', 'NC_006560.1', 'NC_029311.1'], 'NC_001798.2_42': ['NC_023677.1', 'NC_001806.2', 'NC_024306.1', 'NC_006560.1', 'NC_029132.1'], 'NC_001798.2_43': ['NC_023677.1', 'NC_001806.2', 'NC_006560.1', 'NC_024306.1', 'NC_029311.1'], 'NC_001798.2_44': ['NC_023677.1', 'NC_001806.2', 'NC_006560.1', 'NC_024306.1', 'NC_014567.1'], 'NC_001798.2_45': ['NC_023677.1', 'NC_001806.2', 'NC_006560.1', 'NC_024306.1', 'NC_029311.1'], 'NC_001798.2_46': ['NC_023677.1', 'NC_001806.2', 'NC_006560.1', 'NC_024306.1', 'NC_014567.1'], 'NC_001798.2_47': ['NC_023677.1', 'NC_001806.2', 'NC_006560.1', 'NC_024306.1', 'NC_029132.1'], 'NC_001798.2_48': ['NC_023677.1', 'NC_001806.2', 'NC_024306.1', 'NC_029311.1', 'NC_014567.1'], 'NC_001798.2_49': ['NC_023677.1', 'NC_001806.2', 'NC_024306.1', 'NC_006560.1', 'NC_029311.1'], 'NC_001798.2_50': ['NC_023677.1', 'NC_001806.2', 'NC_006560.1', 'NC_024306.1', 'NC_029311.1'], 'NC_001798.2_51': ['NC_023677.1', 'NC_001806.2', 'NC_006560.1', 'NC_024306.1', 'NC_029132.1'], 'NC_001798.2_52': ['NC_023677.1', 'NC_001806.2', 'NC_024306.1', 'NC_029132.1', 'NC_014567.1'], 'NC_001798.2_53': ['NC_023677.1', 'NC_001806.2', 'NC_024306.1', 'NC_006560.1', 'NC_029311.1'], 'NC_001798.2_54': ['NC_023677.1', 'NC_001806.2', 'NC_006560.1', 'NC_024306.1', 'NC_029311.1'], 'NC_001798.2_55': ['NC_023677.1', 'NC_001806.2', 'NC_006560.1', 'NC_029311.1', 'NC_024306.1'], 'NC_001798.2_56': ['NC_023677.1', 'NC_001806.2', 'NC_006560.1'], 'NC_001798.2_57': ['NC_023677.1', 'NC_001806.2', 'NC_006560.1', 'NC_024306.1', 'NC_029311.1'], 'NC_001798.2_58': ['NC_023677.1', 'NC_001806.2', 'NC_024306.1', 'NC_006560.1', 'NC_014567.1'], 'NC_001798.2_59': ['NC_023677.1', 'NC_001806.2', 'NC_006560.1', 'NC_024306.1', 'NC_029132.1'], 'NC_001798.2_60': ['NC_023677.1', 'NC_001806.2', 'NC_024306.1', 'NC_006560.1', 'NC_029311.1'], 'NC_001798.2_61': ['NC_023677.1', 'NC_001806.2', 'NC_024306.1', 'NC_006560.1', 'NC_029311.1'], 'NC_001798.2_62': ['NC_023677.1', 'NC_001806.2', 'NC_024306.1', 'NC_006560.1', 'NC_014567.1'], 'NC_001798.2_63': ['NC_023677.1', 'NC_001806.2'], 'NC_001798.2_65': ['NC_023677.1', 'NC_023677.1', 'NC_001806.2', 'NC_001806.2', 'NC_006560.1'], 'NC_001798.2_68': ['NC_023677.1', 'NC_023677.1', 'NC_001806.2', 'NC_001806.2', 'NC_029311.1'], 'NC_001798.2_70': ['NC_023677.1', 'NC_023677.1'], 'NC_001798.2_71': ['NC_023677.1', 'NC_023677.1', 'NC_001806.2', 'NC_001806.2', 'NC_029132.1'], 'NC_001798.2_72': ['NC_023611.1'], 'NC_001798.2_73': ['NC_023677.1', 'NC_001806.2', 'NC_029311.1', 'NC_006560.1', 'NC_024306.1'], 'NC_001798.2_74': ['NC_023677.1', 'NC_001806.2', 'NC_024306.1', 'NC_006560.1', 'NC_029132.1'], 'NC_001798.2_75': ['NC_023677.1', 'NC_001806.2', 'NC_024306.1', 'NC_006560.1', 'NC_029311.1'], 'NC_001798.2_76': ['NC_023677.1', 'NC_006560.1', 'NC_024306.1', 'NC_001806.2', 'NC_029311.1'], 'NC_001798.2_77': ['NC_023677.1', 'NC_001806.2', 'NC_024306.1', 'NC_006560.1', 'NC_029132.1'], 'NC_001798.2_78': ['NC_023677.1', 'NC_001806.2', 'NC_006560.1', 'NC_029311.1', 'NC_024306.1'], 'NC_001798.2_79': ['NC_023677.1', 'NC_001806.2', 'NC_024306.1', 'NC_006560.1', 'NC_029311.1'], 'NC_001798.2_80': ['NC_023677.1', 'NC_001806.2', 'NC_006560.1', 'NC_024306.1', 'NC_014567.1'], 'NC_001798.2_81': ['NC_023677.1', 'NC_001806.2', 'NC_006560.1', 'NC_013036.1'], 'NC_001798.2_82': ['NC_023611.1'], 'NC_001798.2_83': ['NC_023677.1', 'NC_023677.1', 'NC_001806.2', 'NC_001806.2', 'NC_029132.1']}, 'NC_030692.1': {'NC_030692.1_1': ['NC_001607.1', 'NC_030701.1', 'NC_024296.1', 'NC_030691.1', 'NC_029642.1'], 'NC_030692.1_2': ['NC_001607.1', 'NC_030701.1', 'NC_030690.1', 'NC_024296.1', 'NC_030691.1'], 'NC_030692.1_3': ['NC_001607.1', 'NC_030701.1', 'NC_038268.1', 'NC_024296.1', 'NC_029642.1'], 'NC_030692.1_4': ['NC_001607.1', 'NC_030701.1', 'NC_029642.1', 'NC_030691.1', 'NC_030690.1'], 'NC_030692.1_5': ['NC_001607.1', 'NC_030701.1', 'NC_030691.1', 'NC_029642.1', 'NC_030690.1']}, 'NC_027892.1': {'NC_027892.1_1': ['NC_024296.1', 'NC_030690.1', 'NC_030691.1', 'NC_029642.1', 'NC_038268.1'], 'NC_027892.1_2': ['NC_024296.1', 'NC_030690.1', 'NC_030701.1', 'NC_001607.1', 'NC_030691.1'], 'NC_027892.1_3': ['NC_024296.1', 'NC_030690.1', 'NC_029642.1', 'NC_038268.1', 'NC_001607.1'], 'NC_027892.1_4': ['NC_024296.1', 'NC_030690.1', 'NC_029642.1', 'NC_030691.1', 'NC_038268.1'], 'NC_027892.1_5': ['NC_024296.1', 'NC_030690.1', 'NC_030691.1', 'NC_029642.1', 'NC_030701.1']}}\n"
     ]
    }
   ],
   "source": [
    "def get_blast_hits(blast_xml):\n",
    "  result_handle = open(blast_xml)\n",
    "  from Bio.Blast import NCBIXML\n",
    "  blast_records = NCBIXML.parse(result_handle)\n",
    "#  pr_dict={}\n",
    "  prot_to_viruses = {}\n",
    "  for record in blast_records:\n",
    "      query_id = record.query.split()[0]\n",
    "    #  print(query_id)\n",
    "     # print(alignment.title.split()[1])\n",
    "      if query_id not in prot_to_viruses:\n",
    "        prot_to_viruses[query_id] = []\n",
    "        \n",
    "      for alignment in record.alignments:\n",
    "        prot_to_viruses[query_id] += [proteins_to_genomes[alignment.title.split()[1]]]\n",
    "\n",
    "  virus_to_viruses={}\n",
    "  for i in prot_to_viruses:\n",
    "        virus_name = i.split()[0].rsplit(\"_\", 1)[0]\n",
    "        if virus_name not in virus_to_viruses:\n",
    "            virus_to_viruses[virus_name] = {}        \n",
    "        if len(prot_to_viruses[i]) > 0:\n",
    "#        print (virus_name)\n",
    "          virus_to_viruses[virus_name][i]=prot_to_viruses[i]\n",
    "\n",
    "  #  print(record.query)\n",
    "#    target = record.query.split()[0].rsplit(\"_\", 1)[0] # Get query virus name from the protein name\n",
    "    #print(target)\n",
    " #   if query not in queries:\n",
    "  #      queries[query]=[]\n",
    "  #  for alignment in record.alignments:\n",
    "  #      pr_id = (alignment.title.split()[1])\n",
    "   #     queries[query].append(pr_id)\n",
    "    #    print(alignment.title)\n",
    "     #   break\n",
    "\n",
    "  \n",
    "\n",
    "  return(virus_to_viruses)\n",
    "        \n",
    "# на вход результаты белкового бласта,\n",
    "# на выход словарь из вирусов, в каждом по словарю для белков.\n",
    "    \n",
    "queries =  get_blast_hits(\"blast_out.txt\")\n",
    "\n",
    "#for i in queries:\n",
    " #   print (\"Genome\")\n",
    "  #  print (i)\n",
    "   # for a in queries[i]:\n",
    "    #    print (a)\n",
    "   \n",
    "print(queries)"
   ]
  },
  {
   "cell_type": "code",
   "execution_count": 327,
   "metadata": {},
   "outputs": [],
   "source": [
    "#virus_hits={}\n",
    "#for i in queries:\n",
    "#    virus_hits[i] = []\n",
    "#    for k in queries[i]:\n",
    "#        virus_hits[i].append(proteins_to_genomes[k])\n",
    "\n",
    "        \n",
    "        #        for key,value in train.items():\n",
    " #           if k in set(value): \n",
    "  #              virus_hits[i].append(key)\n",
    "#print (virus_hits)\n",
    "\n",
    "#                break"
   ]
  },
  {
   "cell_type": "code",
   "execution_count": 330,
   "metadata": {},
   "outputs": [
    {
     "name": "stdout",
     "output_type": "stream",
     "text": [
      "3\n"
     ]
    }
   ],
   "source": [
    "import pickle\n",
    "with open('queries.pkl', 'wb') as f:\n",
    "    pickle.dump(queries, f)\n",
    "\n",
    "\n",
    "with open('queries.pkl', 'rb') as f:\n",
    "    queries = pickle.load(f)\n",
    "\n",
    "print (len(queries))\n"
   ]
  },
  {
   "cell_type": "code",
   "execution_count": 331,
   "metadata": {},
   "outputs": [
    {
     "name": "stdout",
     "output_type": "stream",
     "text": [
      "{'NC_001798.2': {'NC_001798.2_1': ['NC_023677.1', 'NC_023677.1'], 'NC_001798.2_3': ['NC_023677.1', 'NC_023677.1', 'NC_001806.2', 'NC_001806.2', 'NC_029311.1'], 'NC_001798.2_6': ['NC_023677.1', 'NC_023677.1', 'NC_001806.2', 'NC_001806.2', 'NC_006560.1'], 'NC_001798.2_8': ['NC_023677.1', 'NC_001806.2', 'NC_006560.1', 'NC_014567.1', 'NC_024306.1'], 'NC_001798.2_9': ['NC_023677.1', 'NC_001806.2', 'NC_029311.1', 'NC_006560.1', 'NC_024306.1'], 'NC_001798.2_10': ['NC_023677.1', 'NC_001806.2', 'NC_006560.1', 'NC_024306.1', 'NC_029311.1'], 'NC_001798.2_11': ['NC_023677.1', 'NC_001806.2', 'NC_024306.1', 'NC_006560.1', 'NC_029132.1'], 'NC_001798.2_12': ['NC_023677.1', 'NC_001806.2', 'NC_024306.1', 'NC_006560.1', 'NC_029132.1'], 'NC_001798.2_13': ['NC_023677.1', 'NC_001806.2', 'NC_006560.1', 'NC_024306.1', 'NC_029132.1'], 'NC_001798.2_14': ['NC_023677.1', 'NC_001806.2', 'NC_006560.1', 'NC_024306.1', 'NC_029132.1'], 'NC_001798.2_15': ['NC_023677.1', 'NC_001806.2', 'NC_024306.1', 'NC_006560.1', 'NC_029132.1'], 'NC_001798.2_16': ['NC_023677.1', 'NC_001806.2', 'NC_024306.1', 'NC_006560.1', 'NC_029132.1'], 'NC_001798.2_17': ['NC_023677.1', 'NC_001806.2', 'NC_006560.1', 'NC_024306.1', 'NC_029132.1'], 'NC_001798.2_18': ['NC_023677.1', 'NC_001806.2', 'NC_024306.1', 'NC_006560.1', 'NC_029311.1'], 'NC_001798.2_19': ['NC_023677.1', 'NC_001806.2', 'NC_006560.1', 'NC_029311.1', 'NC_029132.1'], 'NC_001798.2_20': ['NC_023677.1', 'NC_001806.2', 'NC_006560.1', 'NC_024306.1', 'NC_029132.1'], 'NC_001798.2_21': ['NC_023677.1', 'NC_001806.2', 'NC_006560.1', 'NC_024306.1', 'NC_029132.1'], 'NC_001798.2_22': ['NC_023677.1', 'NC_001806.2', 'NC_006560.1', 'NC_024306.1', 'NC_014567.1'], 'NC_001798.2_23': ['NC_023677.1', 'NC_001806.2', 'NC_006560.1', 'NC_024306.1', 'NC_029311.1'], 'NC_001798.2_24': ['NC_023677.1', 'NC_001806.2', 'NC_006560.1', 'NC_024306.1', 'NC_014567.1'], 'NC_001798.2_25': ['NC_023677.1', 'NC_001806.2', 'NC_006560.1', 'NC_024306.1', 'NC_014567.1'], 'NC_001798.2_26': ['NC_023677.1', 'NC_001806.2', 'NC_006560.1', 'NC_024306.1', 'NC_029311.1'], 'NC_001798.2_27': ['NC_023677.1', 'NC_001806.2', 'NC_024306.1', 'NC_006560.1', 'NC_014567.1'], 'NC_001798.2_28': ['NC_023677.1', 'NC_001806.2', 'NC_006560.1', 'NC_024306.1', 'NC_029132.1'], 'NC_001798.2_29': ['NC_023677.1', 'NC_001806.2', 'NC_006560.1', 'NC_024306.1', 'NC_029132.1'], 'NC_001798.2_30': ['NC_023677.1', 'NC_001806.2', 'NC_024306.1', 'NC_006560.1', 'NC_029311.1'], 'NC_001798.2_31': ['NC_023677.1', 'NC_001806.2', 'NC_024306.1', 'NC_006560.1', 'NC_029311.1'], 'NC_001798.2_32': ['NC_023677.1', 'NC_001806.2', 'NC_006560.1', 'NC_024306.1', 'NC_029132.1'], 'NC_001798.2_33': ['NC_023677.1', 'NC_001806.2', 'NC_006560.1', 'NC_029311.1', 'NC_029132.1'], 'NC_001798.2_34': ['NC_023677.1', 'NC_001806.2', 'NC_006560.1', 'NC_024306.1', 'NC_029132.1'], 'NC_001798.2_35': ['NC_023677.1', 'NC_001806.2', 'NC_024306.1', 'NC_006560.1', 'NC_029311.1'], 'NC_001798.2_36': ['NC_023677.1', 'NC_001806.2', 'NC_006560.1', 'NC_024306.1', 'NC_029132.1'], 'NC_001798.2_37': ['NC_023677.1', 'NC_001806.2', 'NC_024306.1', 'NC_006560.1', 'NC_014567.1'], 'NC_001798.2_38': ['NC_023677.1', 'NC_001806.2', 'NC_024306.1', 'NC_006560.1', 'NC_029132.1'], 'NC_001798.2_39': ['NC_023677.1', 'NC_001806.2', 'NC_006560.1', 'NC_024306.1', 'NC_029132.1'], 'NC_001798.2_40': ['NC_023677.1', 'NC_001806.2', 'NC_006560.1', 'NC_024306.1', 'NC_014567.1'], 'NC_001798.2_41': ['NC_023677.1', 'NC_001806.2', 'NC_024306.1', 'NC_006560.1', 'NC_029311.1'], 'NC_001798.2_42': ['NC_023677.1', 'NC_001806.2', 'NC_024306.1', 'NC_006560.1', 'NC_029132.1'], 'NC_001798.2_43': ['NC_023677.1', 'NC_001806.2', 'NC_006560.1', 'NC_024306.1', 'NC_029311.1'], 'NC_001798.2_44': ['NC_023677.1', 'NC_001806.2', 'NC_006560.1', 'NC_024306.1', 'NC_014567.1'], 'NC_001798.2_45': ['NC_023677.1', 'NC_001806.2', 'NC_006560.1', 'NC_024306.1', 'NC_029311.1'], 'NC_001798.2_46': ['NC_023677.1', 'NC_001806.2', 'NC_006560.1', 'NC_024306.1', 'NC_014567.1'], 'NC_001798.2_47': ['NC_023677.1', 'NC_001806.2', 'NC_006560.1', 'NC_024306.1', 'NC_029132.1'], 'NC_001798.2_48': ['NC_023677.1', 'NC_001806.2', 'NC_024306.1', 'NC_029311.1', 'NC_014567.1'], 'NC_001798.2_49': ['NC_023677.1', 'NC_001806.2', 'NC_024306.1', 'NC_006560.1', 'NC_029311.1'], 'NC_001798.2_50': ['NC_023677.1', 'NC_001806.2', 'NC_006560.1', 'NC_024306.1', 'NC_029311.1'], 'NC_001798.2_51': ['NC_023677.1', 'NC_001806.2', 'NC_006560.1', 'NC_024306.1', 'NC_029132.1'], 'NC_001798.2_52': ['NC_023677.1', 'NC_001806.2', 'NC_024306.1', 'NC_029132.1', 'NC_014567.1'], 'NC_001798.2_53': ['NC_023677.1', 'NC_001806.2', 'NC_024306.1', 'NC_006560.1', 'NC_029311.1'], 'NC_001798.2_54': ['NC_023677.1', 'NC_001806.2', 'NC_006560.1', 'NC_024306.1', 'NC_029311.1'], 'NC_001798.2_55': ['NC_023677.1', 'NC_001806.2', 'NC_006560.1', 'NC_029311.1', 'NC_024306.1'], 'NC_001798.2_56': ['NC_023677.1', 'NC_001806.2', 'NC_006560.1'], 'NC_001798.2_57': ['NC_023677.1', 'NC_001806.2', 'NC_006560.1', 'NC_024306.1', 'NC_029311.1'], 'NC_001798.2_58': ['NC_023677.1', 'NC_001806.2', 'NC_024306.1', 'NC_006560.1', 'NC_014567.1'], 'NC_001798.2_59': ['NC_023677.1', 'NC_001806.2', 'NC_006560.1', 'NC_024306.1', 'NC_029132.1'], 'NC_001798.2_60': ['NC_023677.1', 'NC_001806.2', 'NC_024306.1', 'NC_006560.1', 'NC_029311.1'], 'NC_001798.2_61': ['NC_023677.1', 'NC_001806.2', 'NC_024306.1', 'NC_006560.1', 'NC_029311.1'], 'NC_001798.2_62': ['NC_023677.1', 'NC_001806.2', 'NC_024306.1', 'NC_006560.1', 'NC_014567.1'], 'NC_001798.2_63': ['NC_023677.1', 'NC_001806.2'], 'NC_001798.2_65': ['NC_023677.1', 'NC_023677.1', 'NC_001806.2', 'NC_001806.2', 'NC_006560.1'], 'NC_001798.2_68': ['NC_023677.1', 'NC_023677.1', 'NC_001806.2', 'NC_001806.2', 'NC_029311.1'], 'NC_001798.2_70': ['NC_023677.1', 'NC_023677.1'], 'NC_001798.2_71': ['NC_023677.1', 'NC_023677.1', 'NC_001806.2', 'NC_001806.2', 'NC_029132.1'], 'NC_001798.2_72': ['NC_023611.1'], 'NC_001798.2_73': ['NC_023677.1', 'NC_001806.2', 'NC_029311.1', 'NC_006560.1', 'NC_024306.1'], 'NC_001798.2_74': ['NC_023677.1', 'NC_001806.2', 'NC_024306.1', 'NC_006560.1', 'NC_029132.1'], 'NC_001798.2_75': ['NC_023677.1', 'NC_001806.2', 'NC_024306.1', 'NC_006560.1', 'NC_029311.1'], 'NC_001798.2_76': ['NC_023677.1', 'NC_006560.1', 'NC_024306.1', 'NC_001806.2', 'NC_029311.1'], 'NC_001798.2_77': ['NC_023677.1', 'NC_001806.2', 'NC_024306.1', 'NC_006560.1', 'NC_029132.1'], 'NC_001798.2_78': ['NC_023677.1', 'NC_001806.2', 'NC_006560.1', 'NC_029311.1', 'NC_024306.1'], 'NC_001798.2_79': ['NC_023677.1', 'NC_001806.2', 'NC_024306.1', 'NC_006560.1', 'NC_029311.1'], 'NC_001798.2_80': ['NC_023677.1', 'NC_001806.2', 'NC_006560.1', 'NC_024306.1', 'NC_014567.1'], 'NC_001798.2_81': ['NC_023677.1', 'NC_001806.2', 'NC_006560.1', 'NC_013036.1'], 'NC_001798.2_82': ['NC_023611.1'], 'NC_001798.2_83': ['NC_023677.1', 'NC_023677.1', 'NC_001806.2', 'NC_001806.2', 'NC_029132.1']}, 'NC_030692.1': {'NC_030692.1_1': ['NC_001607.1', 'NC_030701.1', 'NC_024296.1', 'NC_030691.1', 'NC_029642.1'], 'NC_030692.1_2': ['NC_001607.1', 'NC_030701.1', 'NC_030690.1', 'NC_024296.1', 'NC_030691.1'], 'NC_030692.1_3': ['NC_001607.1', 'NC_030701.1', 'NC_038268.1', 'NC_024296.1', 'NC_029642.1'], 'NC_030692.1_4': ['NC_001607.1', 'NC_030701.1', 'NC_029642.1', 'NC_030691.1', 'NC_030690.1'], 'NC_030692.1_5': ['NC_001607.1', 'NC_030701.1', 'NC_030691.1', 'NC_029642.1', 'NC_030690.1']}, 'NC_027892.1': {'NC_027892.1_1': ['NC_024296.1', 'NC_030690.1', 'NC_030691.1', 'NC_029642.1', 'NC_038268.1'], 'NC_027892.1_2': ['NC_024296.1', 'NC_030690.1', 'NC_030701.1', 'NC_001607.1', 'NC_030691.1'], 'NC_027892.1_3': ['NC_024296.1', 'NC_030690.1', 'NC_029642.1', 'NC_038268.1', 'NC_001607.1'], 'NC_027892.1_4': ['NC_024296.1', 'NC_030690.1', 'NC_029642.1', 'NC_030691.1', 'NC_038268.1'], 'NC_027892.1_5': ['NC_024296.1', 'NC_030690.1', 'NC_030691.1', 'NC_029642.1', 'NC_030701.1']}}\n",
      "[154675, 'Human herpesvirus 2 strain HG52, complete genome']\n",
      "[198533, 'Invertebrate iridescent virus 30 complete genome']\n",
      "[8908, 'Borna disease virus 2, complete genome']\n",
      "[8957, 'Canary bornavirus 2, complete cds']\n"
     ]
    }
   ],
   "source": [
    "print(queries)\n",
    "print(genomes_len[\"NC_001798.2\"])\n",
    "print(genomes_len[\"NC_023611.1\"])\n",
    "print(genomes_len[\"NC_030692.1\"])\n",
    "print(genomes_len[\"NC_027892.1\"])"
   ]
  },
  {
   "cell_type": "code",
   "execution_count": 297,
   "metadata": {},
   "outputs": [
    {
     "name": "stdout",
     "output_type": "stream",
     "text": [
      "NC_001798.2\n",
      "[154675, 'Human herpesvirus 2 strain HG52, complete genome']\n",
      "NC_023677.1 0.9723765185222384 [153158, 'Chimpanzee alpha-1 herpesvirus strain 105640, complete genome']\n",
      "NC_023611.1 0.026640582115121107 [198533, 'Invertebrate iridescent virus 30 complete genome']\n",
      "1.0000000000000162\n",
      "Probablity of [0.9*len, 1.1*len]= 0.9723999621172822\n",
      "NC_030692.1\n",
      "[8908, 'Borna disease virus 2, complete genome']\n",
      "NC_001607.1 0.985454717460843 [8910, 'Borna disease virus 1, complete sequence']\n",
      "1.0000000000002363\n",
      "Probablity of [0.9*len, 1.1*len]= 0.9865958717413726\n",
      "NC_027892.1\n",
      "[8957, 'Canary bornavirus 2, complete cds']\n",
      "NC_024296.1 0.985454717460843 [8914, 'Canary bornavirus 3, complete sequence']\n",
      "1.0000000000001446\n",
      "Probablity of [0.9*len, 1.1*len]= 0.9865958717413628\n"
     ]
    }
   ],
   "source": [
    "#build corresponding probability distribution\n",
    "eps=0.00001\n",
    "\n",
    "\n",
    "def prob_dist(virus_set):\n",
    "    \n",
    "\n",
    "\n",
    "\n",
    "\n",
    "for i in queries:\n",
    " # print(i)\n",
    " # print()\n",
    " # print(genomes_len[i])\n",
    "\n",
    "  aposteriori = {}\n",
    "  for k in train:\n",
    "        aposteriori[k] = eps\n",
    "        \n",
    "  for k in virus_hits[i]:\n",
    "    aposteriori[k]+=1\n",
    "\n",
    "    \n",
    "#Normalize\n",
    "  count = 0\n",
    "  prob = 0\n",
    "  for k in aposteriori:\n",
    "        aposteriori[k] = aposteriori[k]/(len(virus_hits[i])+ eps*len(train))\n",
    "        if aposteriori[k] > eps/(len(virus_hits[i])+ eps*len(train)):\n",
    "            print (k, aposteriori[k], genomes_len[k])\n",
    "        count+=aposteriori[k]\n",
    "        if  0.9*genomes_len[i][0] < genomes_len[k][0] <  1.1*genomes_len[i][0]:\n",
    "            prob+=aposteriori[k]\n",
    "\n",
    "\n",
    "  \n",
    "  print(count)\n",
    "\n",
    "  if len(queries[i])<=3:\n",
    "    a = True\n",
    "    for virus in virus_hits[i]:\n",
    "        if len(genomes[virus])!= len(queries[i]):\n",
    "          a = False\n",
    "  \n",
    "    if a == True:\n",
    "      print(\"Full-length, contain \", len(queries[i]),\" proteins\")\n",
    "      continue\n",
    "    else:\n",
    "      print(\"Partial, contain \", len(queries[i]),\" proteins\")\n",
    "      continue\n",
    "      \n",
    "    \n",
    "  print(\"Probablity of [0.9*len, 1.1*len]=\",prob)\n",
    "  \n",
    "            "
   ]
  },
  {
   "cell_type": "code",
   "execution_count": 158,
   "metadata": {},
   "outputs": [
    {
     "name": "stdout",
     "output_type": "stream",
     "text": [
      "['YP_009252390.1']\n",
      "['YP_009116896.1']\n",
      "['NC_026259.1']\n",
      "['YP_009116896.1', 'YP_009116897.1']\n"
     ]
    }
   ],
   "source": [
    "print (genomes[\"NC_030150.1\"])\n",
    "print (queries[\"NC_030150.1\"])\n",
    "print (virus_hits[\"NC_030150.1\"])\n",
    "print (genomes[\"NC_026259.1\"])"
   ]
  },
  {
   "cell_type": "code",
   "execution_count": 103,
   "metadata": {},
   "outputs": [],
   "source": [
    "with open('test_viruses.txt', 'w') as f:\n",
    "    for item in test:\n",
    "        f.write(\"%s\\n\" % item)\n",
    "with open('train_viruses.txt', 'w') as f:\n",
    "    for item in train:\n",
    "        f.write(\"%s\\n\" % item)\n"
   ]
  },
  {
   "cell_type": "code",
   "execution_count": 165,
   "metadata": {},
   "outputs": [],
   "source": [
    "#!python /Nancy/mrayko/tmp_py_scripts/get_fasta_from_names.py --l test_viruses.txt --f /Nancy/mrayko/db/refseq_viruses/total.genomic.fa > test_viruses.fa\n",
    "#!python /Nancy/mrayko/tmp_py_scripts/get_fasta_from_names.py --l train_viruses.txt --f /Nancy/mrayko/db/refseq_viruses/total.genomic.fa > train_viruses.fa\n",
    "#!prodigal -p meta -a test_proteins.fa -o test_viruses_prodigal.out -q -i test_viruses.fa\n",
    "#build corresponding probability distribution\n",
    "eps=0.000001\n",
    "for i in virus_hits:\n",
    "  #print(\"Virus ID: \", i)\n",
    "  with open(\"test_result.txt\", \"a\") as myfile: myfile.write(\"Virus ID: \" + i  + '\\n')\n",
    "  with open(\"test_result.txt\", \"a\") as myfile: myfile.write(str(genomes_len[i])  + '\\n')\n",
    "  #print(genomes_len[i])\n",
    "\n",
    "  aposteriori = {}\n",
    "  for k in train:\n",
    "        aposteriori[k] = eps\n",
    "        \n",
    "  for k in virus_hits[i]:\n",
    "    aposteriori[k]+=1\n",
    "#Normalize\n",
    "  count = 0\n",
    "  prob = 0\n",
    "  for k in aposteriori:\n",
    "        aposteriori[k] = aposteriori[k]/(len(virus_hits[i])+ eps*len(train))\n",
    "        if aposteriori[k] > eps/(len(virus_hits[i])+ eps*len(train)):\n",
    "            with open(\"test_result.txt\", \"a\") as myfile: myfile.write(k + \" \" + str(aposteriori[k]) + \" \" + str(genomes_len[k])  + '\\n')\n",
    "            #print (k, aposteriori[k], genomes_len[k])\n",
    "        count+=aposteriori[k]\n",
    "        if  0.8*genomes_len[i][0] < genomes_len[k][0] <  1.2*genomes_len[i][0]:\n",
    "            prob+=aposteriori[k]\n",
    "\n",
    "\n",
    "            \n",
    "  #print(count)\n",
    "  with open(\"test_result.txt\", \"a\") as myfile: myfile.write(str(count)  + '\\n')\n",
    "\n",
    "  \n",
    "\n",
    " # if len(queries[i])<=3:\n",
    " #   a = True\n",
    " #   for virus in virus_hits[i]:\n",
    " #       if len(genomes[virus])!= len(queries[i]):\n",
    " #         a = False\n",
    "  \n",
    "  #  if a == True:\n",
    "   #   with open(\"test_result.txt\", \"a\") as myfile: myfile.write(i + \" \" + \"Full-length, contain \" + str(len(queries[i])) +\" proteins\"  + '\\n')\n",
    "  \n",
    "      #print(\"Full-length, contain \", len(queries[i]),\" proteins\")\n",
    "    #  continue\n",
    "   # else:\n",
    "   #   with open(\"test_result.txt\", \"a\") as myfile: myfile.write(i + \" \" + \"Partial, contain \" + str(len(queries[i])) +\" proteins\"  + '\\n')\n",
    "        \n",
    "     # print(\"Partial, contain \", len(queries[i]),\" proteins\")\n",
    "    #  continue\n",
    "      \n",
    "  if prob > 0.9:  \n",
    "    with open(\"test_result.txt\", \"a\") as myfile: myfile.write(i + \" \" + \"Full-length, Probablity of [0.9*len, 1.1*len]=\" + \" \" + str(prob)  + '\\n')\n",
    "  else:\n",
    "    with open(\"test_result.txt\", \"a\") as myfile: myfile.write(i + \" \" + \"Partial, Probablity of [0.9*len, 1.1*len]=\" + \" \" + str(prob)  + '\\n')\n",
    "  \n",
    "  #print(\"Probablity of [0.9*len, 1.1*len]=\",prob)\n"
   ]
  },
  {
   "cell_type": "code",
   "execution_count": 104,
   "metadata": {},
   "outputs": [
    {
     "name": "stdout",
     "output_type": "stream",
     "text": [
      "3163\n"
     ]
    }
   ],
   "source": [
    "\n",
    "\n",
    "\n",
    "with open(\"test_result.txt\", \"a\") as myfile: myfile.write(\"appended text\")"
   ]
  },
  {
   "cell_type": "code",
   "execution_count": null,
   "metadata": {},
   "outputs": [],
   "source": [
    "virus_hits={}\n",
    "for i in queries:\n",
    "    virus_hits[i] = []\n",
    "    for k in queries[i]:\n",
    "        virus_hits[i].append(proteins_to_genomes[k])"
   ]
  },
  {
   "cell_type": "code",
   "execution_count": null,
   "metadata": {},
   "outputs": [],
   "source": []
  },
  {
   "cell_type": "code",
   "execution_count": null,
   "metadata": {},
   "outputs": [],
   "source": []
  },
  {
   "cell_type": "code",
   "execution_count": null,
   "metadata": {},
   "outputs": [],
   "source": []
  },
  {
   "cell_type": "code",
   "execution_count": null,
   "metadata": {},
   "outputs": [],
   "source": []
  },
  {
   "cell_type": "code",
   "execution_count": null,
   "metadata": {},
   "outputs": [],
   "source": []
  },
  {
   "cell_type": "code",
   "execution_count": null,
   "metadata": {},
   "outputs": [],
   "source": []
  },
  {
   "cell_type": "code",
   "execution_count": null,
   "metadata": {},
   "outputs": [],
   "source": []
  },
  {
   "cell_type": "code",
   "execution_count": null,
   "metadata": {},
   "outputs": [],
   "source": []
  },
  {
   "cell_type": "markdown",
   "metadata": {},
   "source": [
    "Get length distribution"
   ]
  },
  {
   "cell_type": "code",
   "execution_count": null,
   "metadata": {},
   "outputs": [],
   "source": [
    "import matplotlib.pyplot as plt\n",
    "plt.bar(list(genomes_len.keys()), genomes_len.values(), color='g')\n",
    "plt.show()"
   ]
  },
  {
   "cell_type": "code",
   "execution_count": 12,
   "metadata": {},
   "outputs": [
    {
     "data": {
      "image/png": "[encoded data removed]",
      "text/plain": [
       "<Figure size 432x288 with 1 Axes>"
      ]
     },
     "metadata": {
      "needs_background": "light"
     },
     "output_type": "display_data"
    }
   ],
   "source": [
    "import matplotlib.pyplot as plt\n",
    "\n",
    "dictionary = {1: 27, 34: 1, 3: 72, 4: 62, 5: 33, 6: 36, 7: 20, 8: 12, 9: 9, 10: 6, 11: 5, \n",
    "              12: 8, 2: 74, 14: 4, 15: 3, 16: 1, 17: 1, 18: 1, 19: 1, 21: 1, 27: 2}\n",
    "plt.bar(list(dictionary.keys()), dictionary.values(), color='g')\n",
    "plt.show()"
   ]
  },
  {
   "cell_type": "code",
   "execution_count": null,
   "metadata": {},
   "outputs": [],
   "source": []
  },
  {
   "cell_type": "code",
   "execution_count": null,
   "metadata": {},
   "outputs": [],
   "source": [
    "import matplotlib.pylab as plt\n",
    "\n",
    "lists = sorted(genomes_len.items()) # sorted by key, return a list of tuples\n",
    "\n",
    "x, y = zip(*lists) # unpack a list of pairs into two tuples\n",
    "\n",
    "plt.plot(x, y)\n",
    "plt.show()"
   ]
  },
  {
   "cell_type": "code",
   "execution_count": 135,
   "metadata": {},
   "outputs": [],
   "source": [
    "import random\n",
    "random.seed(a=25)\n",
    "keys = list(genomes_len.keys())\n",
    "s = set(random.sample(keys, len(genomes_len)//2))\n",
    "\n",
    "#random.sample(population, k)"
   ]
  },
  {
   "cell_type": "code",
   "execution_count": 136,
   "metadata": {},
   "outputs": [],
   "source": [
    "test={}\n",
    "train={}\n",
    "for i in genomes_len:\n",
    "    if i in s:\n",
    "        train[i] = genomes_len[i]\n",
    "    else:\n",
    "        test[i] = genomes_len[i]"
   ]
  },
  {
   "cell_type": "code",
   "execution_count": 137,
   "metadata": {},
   "outputs": [
    {
     "name": "stdout",
     "output_type": "stream",
     "text": [
      "5266\n",
      "5266\n"
     ]
    }
   ],
   "source": [
    "print(len(test))\n",
    "print(len(train))"
   ]
  },
  {
   "cell_type": "code",
   "execution_count": 66,
   "metadata": {},
   "outputs": [],
   "source": [
    "#1. Get apriory distribution of length from input (refseq_test)\n",
    "#Build a priori (uniform) probability distribution from the RefSeq viral database (refseq_test)"
   ]
  },
  {
   "cell_type": "code",
   "execution_count": 120,
   "metadata": {},
   "outputs": [],
   "source": [
    "apriori = [1/len(train)]*len(train)"
   ]
  },
  {
   "cell_type": "code",
   "execution_count": 121,
   "metadata": {},
   "outputs": [
    {
     "name": "stdout",
     "output_type": "stream",
     "text": [
      "[0.00018989745537409798, 0.00018989745537409798, 0.00018989745537409798, 0.00018989745537409798, 0.00018989745537409798, 0.00018989745537409798, 0.00018989745537409798, 0.00018989745537409798, 0.00018989745537409798, 0.00018989745537409798]\n"
     ]
    }
   ],
   "source": [
    "print(apriori[:10])"
   ]
  },
  {
   "cell_type": "code",
   "execution_count": 74,
   "metadata": {},
   "outputs": [],
   "source": [
    "#2. From genes -> lengths + small E for other viruses from refseq_test (pseudocounts)\n",
    "#Predict genes and proteins in the viral contig using Prodigal (Hyatt et al, 2010).\n",
    "#Blast predicted proteins on the proteins from RefSeq viruses (e-value=..., query coverage = …, # of top hits = ...)\n",
    "#For each gene blast hits get the set of the corresponding viruses and build corresponding probability distribution\n"
   ]
  },
  {
   "cell_type": "code",
   "execution_count": null,
   "metadata": {},
   "outputs": [],
   "source": []
  },
  {
   "cell_type": "code",
   "execution_count": null,
   "metadata": {},
   "outputs": [],
   "source": []
  },
  {
   "cell_type": "code",
   "execution_count": null,
   "metadata": {},
   "outputs": [],
   "source": []
  },
  {
   "cell_type": "code",
   "execution_count": 118,
   "metadata": {},
   "outputs": [
    {
     "name": "stdout",
     "output_type": "stream",
     "text": [
      "3156\n"
     ]
    }
   ],
   "source": [
    "print(len(virus_hits))"
   ]
  },
  {
   "cell_type": "code",
   "execution_count": null,
   "metadata": {},
   "outputs": [],
   "source": []
  },
  {
   "cell_type": "code",
   "execution_count": null,
   "metadata": {},
   "outputs": [],
   "source": []
  },
  {
   "cell_type": "code",
   "execution_count": null,
   "metadata": {},
   "outputs": [],
   "source": []
  },
  {
   "cell_type": "code",
   "execution_count": null,
   "metadata": {},
   "outputs": [],
   "source": []
  },
  {
   "cell_type": "code",
   "execution_count": null,
   "metadata": {},
   "outputs": [],
   "source": []
  },
  {
   "cell_type": "code",
   "execution_count": null,
   "metadata": {},
   "outputs": [],
   "source": []
  },
  {
   "cell_type": "code",
   "execution_count": null,
   "metadata": {},
   "outputs": [],
   "source": []
  }
 ],
 "metadata": {
  "kernelspec": {
   "display_name": "Python 3",
   "language": "python",
   "name": "python3"
  },
  "language_info": {
   "codemirror_mode": {
    "name": "ipython",
    "version": 3
   },
   "file_extension": ".py",
   "mimetype": "text/x-python",
   "name": "python",
   "nbconvert_exporter": "python",
   "pygments_lexer": "ipython3",
   "version": "3.6.6"
  }
 },
 "nbformat": 4,
 "nbformat_minor": 2
}
